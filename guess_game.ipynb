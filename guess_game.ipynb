{
 "cells": [
  {
   "cell_type": "code",
   "execution_count": 1,
   "id": "0fcb3a19",
   "metadata": {},
   "outputs": [],
   "source": [
    "def user_input():\n",
    "    \n",
    "    guess = input(\"Pick a number from (0,1,2): \")\n",
    "    \n",
    "    while guess not in [\"0\" , \"1\" ,\"2\"]:\n",
    "        print(\"Please enter a valid input!\")\n",
    "        if guess not in [\"0\" , \"1\" , \"2\"]:\n",
    "            guess = input(\"Pick a number from (0,1,2): \")\n",
    "    \n",
    "    return int(guess)"
   ]
  },
  {
   "cell_type": "code",
   "execution_count": 2,
   "id": "d0d79d35",
   "metadata": {},
   "outputs": [],
   "source": [
    "def shuffle(list):\n",
    "    \n",
    "    from random import shuffle\n",
    "    \n",
    "    shuffle(list)\n",
    "    \n",
    "    return list"
   ]
  },
  {
   "cell_type": "code",
   "execution_count": null,
   "id": "8b7453dc",
   "metadata": {},
   "outputs": [],
   "source": [
    "game_list = [\"\" , \"O\" , \"\"]\n",
    "\n",
    "shuffled_list = shuffle(game_list)\n",
    "\n",
    "if shuffled_list[guess] == \"O\":\n",
    "    \n",
    "    print(\"You win\")\n",
    " \n",
    "else:\n",
    "    \n",
    "    print(\"Sorry better luck next time!\")\n",
    "    print(shuffled_list)"
   ]
  }
 ],
 "metadata": {
  "kernelspec": {
   "display_name": "Python 3",
   "language": "python",
   "name": "python3"
  },
  "language_info": {
   "codemirror_mode": {
    "name": "ipython",
    "version": 3
   },
   "file_extension": ".py",
   "mimetype": "text/x-python",
   "name": "python",
   "nbconvert_exporter": "python",
   "pygments_lexer": "ipython3",
   "version": "3.8.8"
  }
 },
 "nbformat": 4,
 "nbformat_minor": 5
}
