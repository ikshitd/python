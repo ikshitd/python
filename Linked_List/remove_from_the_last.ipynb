{
 "cells": [
  {
   "cell_type": "code",
   "execution_count": 23,
   "id": "375714b5",
   "metadata": {},
   "outputs": [],
   "source": [
    "from random import randint  \n",
    "class Node():\n",
    "    def __init__(self , data): \n",
    "        self.data = data \n",
    "        self.next = None\n",
    "\n",
    "class Linked_list():\n",
    "    def __init__(self):\n",
    "        self.head = None \n",
    "        self.tail = None \n",
    "    \n",
    "    def print_func(self): \n",
    "        if self.head is None :\n",
    "            print(\"The linked list is empty \")\n",
    "        \n",
    "        llstr = \"\"\n",
    "        current = self.head \n",
    "        while current :\n",
    "            llstr += str(current.data) + \"-->\"\n",
    "            current = current.next \n",
    "        print(llstr)\n",
    "     \n",
    "    def add_func(self , data):  \n",
    "        if self.head is None : \n",
    "            node = Node(data)\n",
    "            self.head = node \n",
    "            self.tail = node \n",
    "        else : \n",
    "            node = Node(data)\n",
    "            self.tail.next = node\n",
    "            self.tail = self.tail.next \n",
    "        return (self.tail) \n",
    "    def generate_func(self , n , min_value , max_value): \n",
    "        self.head = None \n",
    "        self.tail = None \n",
    "        for i in range(n):\n",
    "            self.add_func(randint(min_value , max_value))\n",
    "        \n",
    "        return self\n",
    "\n",
    "    def size_of_linked_list(self):\n",
    "        if self.head is None : \n",
    "            return 0 \n",
    "        \n",
    "        current = self.head\n",
    "        counter = 0\n",
    "        while current : \n",
    "            current = current.next \n",
    "            counter +=1\n",
    "        return counter \n",
    "    \n",
    "    def remove_from_last(self , n ): \n",
    "        index = self.size_of_linked_list() - n \n",
    "        if index == 0 : \n",
    "            if self.head == self.tail :\n",
    "                self.head = None \n",
    "                self.tail = None \n",
    "            \n",
    "            else :\n",
    "                self.head = self.head.next \n",
    "        elif (index == -1):\n",
    "            if self.head == self.tail : \n",
    "                self.head = None \n",
    "                self.tail = None \n",
    "            \n",
    "            else : \n",
    "                current = self.head \n",
    "                while current :\n",
    "                    if current.next == self.tail : \n",
    "                        break \n",
    "                    current = current.next \n",
    "                current.next = current.next.next \n",
    "        else :\n",
    "            \n",
    "            count = 0 \n",
    "            temp = self.head \n",
    "            while temp :\n",
    "                if count == index -1 :\n",
    "                    break\n",
    "                temp = temp.next \n",
    "                count+=1 \n",
    "            temp.next = temp.next.next "
   ]
  },
  {
   "cell_type": "code",
   "execution_count": 24,
   "id": "f6ec8038",
   "metadata": {},
   "outputs": [],
   "source": [
    "ll = Linked_list()"
   ]
  },
  {
   "cell_type": "code",
   "execution_count": 25,
   "id": "fdcd920a",
   "metadata": {},
   "outputs": [
    {
     "name": "stdout",
     "output_type": "stream",
     "text": [
      "The linked list is empty \n",
      "\n"
     ]
    }
   ],
   "source": [
    "ll.print_func()"
   ]
  },
  {
   "cell_type": "code",
   "execution_count": 26,
   "id": "061a0b7e",
   "metadata": {},
   "outputs": [
    {
     "data": {
      "text/plain": [
       "<__main__.Linked_list at 0x1c3eb328e20>"
      ]
     },
     "execution_count": 26,
     "metadata": {},
     "output_type": "execute_result"
    }
   ],
   "source": [
    "ll.generate_func(10 , 0 , 99)"
   ]
  },
  {
   "cell_type": "code",
   "execution_count": 27,
   "id": "aaaf9acb",
   "metadata": {},
   "outputs": [
    {
     "name": "stdout",
     "output_type": "stream",
     "text": [
      "86-->72-->89-->95-->70-->24-->81-->18-->22-->77-->\n"
     ]
    }
   ],
   "source": [
    "ll.print_func()"
   ]
  },
  {
   "cell_type": "code",
   "execution_count": 28,
   "id": "0f4b458c",
   "metadata": {},
   "outputs": [],
   "source": [
    "ll.remove_from_last(3)"
   ]
  },
  {
   "cell_type": "code",
   "execution_count": 29,
   "id": "a8a5d6c3",
   "metadata": {},
   "outputs": [
    {
     "name": "stdout",
     "output_type": "stream",
     "text": [
      "86-->72-->89-->95-->70-->24-->81-->22-->77-->\n"
     ]
    }
   ],
   "source": [
    "ll.print_func()"
   ]
  },
  {
   "cell_type": "code",
   "execution_count": 32,
   "id": "aedbcb8d",
   "metadata": {},
   "outputs": [
    {
     "data": {
      "text/plain": [
       "9"
      ]
     },
     "execution_count": 32,
     "metadata": {},
     "output_type": "execute_result"
    }
   ],
   "source": [
    "ll.size_of_linked_list()"
   ]
  },
  {
   "cell_type": "code",
   "execution_count": 33,
   "id": "c5c1cb00",
   "metadata": {},
   "outputs": [],
   "source": [
    "ll.remove_from_last(7)"
   ]
  },
  {
   "cell_type": "code",
   "execution_count": 34,
   "id": "b3ab08b3",
   "metadata": {},
   "outputs": [
    {
     "name": "stdout",
     "output_type": "stream",
     "text": [
      "86-->72-->95-->70-->24-->81-->22-->77-->\n"
     ]
    }
   ],
   "source": [
    "ll.print_func()"
   ]
  }
 ],
 "metadata": {
  "kernelspec": {
   "display_name": "Python 3",
   "language": "python",
   "name": "python3"
  },
  "language_info": {
   "codemirror_mode": {
    "name": "ipython",
    "version": 3
   },
   "file_extension": ".py",
   "mimetype": "text/x-python",
   "name": "python",
   "nbconvert_exporter": "python",
   "pygments_lexer": "ipython3",
   "version": "3.8.8"
  }
 },
 "nbformat": 4,
 "nbformat_minor": 5
}
