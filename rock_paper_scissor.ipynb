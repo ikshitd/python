{
 "cells": [
  {
   "cell_type": "code",
   "execution_count": 1,
   "id": "98a0b01e",
   "metadata": {},
   "outputs": [],
   "source": [
    "#user input\n",
    "def user_input():\n",
    "    choice = (input(\"R,P,S ? : \")).upper()\n",
    "    \n",
    "    while choice not in [\"R\" , \"P\" , \"S\"]:\n",
    "        print(\"Please enter a valid input!\")\n",
    "        \n",
    "        if choice not in [\"R\" , \"P\" , \"S\"]:\n",
    "            choice = input(\"R,P,S ? : \")\n",
    "    \n",
    "    return choice"
   ]
  },
  {
   "cell_type": "code",
   "execution_count": 2,
   "id": "1062442c",
   "metadata": {},
   "outputs": [],
   "source": [
    "#computer input will be random\n",
    "def computer(list):\n",
    "    from random import shuffle\n",
    "    \n",
    "    shuffle(list)\n",
    "    \n",
    "    from random import randint\n",
    "    \n",
    "    guess = randint(0,2)\n",
    "    \n",
    "    return list[guess]"
   ]
  },
  {
   "cell_type": "code",
   "execution_count": 3,
   "id": "9006e7fa",
   "metadata": {},
   "outputs": [
    {
     "name": "stdout",
     "output_type": "stream",
     "text": [
      "R,P,S ? : s\n",
      "Draw!\n",
      "Scissor\n"
     ]
    }
   ],
   "source": [
    "game_list = [\"Rock\" , \"Paper\" , \"Scissor\"]\n",
    "\n",
    "comp_choice = computer(game_list)\n",
    "\n",
    "user_choice = user_input()\n",
    "\n",
    "if user_choice == \"R\" and comp_choice == \"Rock\":\n",
    "    print(\"Game Tied\")\n",
    "    print(comp_choice)\n",
    "\n",
    "elif user_choice == \"P\" and comp_choice == \"Rock\":\n",
    "    print(\"You win!\")\n",
    "    print(comp_choice)\n",
    "\n",
    "elif user_choice == \"S\" and comp_choice == \"Rock\":\n",
    "    print(\"Computer wins!\")\n",
    "    print(comp_choice)\n",
    "    \n",
    "elif user_choice == \"R\" and comp_choice == \"Paper\":\n",
    "    print(\"Computer win!\")\n",
    "    print(comp_choice)\n",
    "    \n",
    "elif user_choice == \"P\" and comp_choice == \"Paper\":    \n",
    "    print(\"Game Tied!\")\n",
    "    print(comp_choice)\n",
    "    \n",
    "elif user_choice == \"S\" and comp_choice == \"Paper\":\n",
    "    print(\"You win\")\n",
    "    print(comp_choice)\n",
    "    \n",
    "elif user_choice == \"S\" and comp_choice == \"Scissor\":\n",
    "    print(\"Draw!\")\n",
    "    print(comp_choice)\n",
    "    \n",
    "elif user_choice == \"R\" and comp_choice == \"Scissor\":\n",
    "    print(\"You win!\")\n",
    "    print(comp_choice)\n",
    "    \n",
    "elif user_choice == \"P\" and comp_choice == \"Scissor\":\n",
    "    print(\"Computer Wins\")\n",
    "    print(comp_choice)"
   ]
  },
  {
   "cell_type": "code",
   "execution_count": null,
   "id": "2ba54054",
   "metadata": {},
   "outputs": [],
   "source": []
  }
 ],
 "metadata": {
  "kernelspec": {
   "display_name": "Python 3",
   "language": "python",
   "name": "python3"
  },
  "language_info": {
   "codemirror_mode": {
    "name": "ipython",
    "version": 3
   },
   "file_extension": ".py",
   "mimetype": "text/x-python",
   "name": "python",
   "nbconvert_exporter": "python",
   "pygments_lexer": "ipython3",
   "version": "3.8.8"
  }
 },
 "nbformat": 4,
 "nbformat_minor": 5
}
