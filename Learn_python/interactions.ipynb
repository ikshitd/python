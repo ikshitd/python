{
 "cells": [
  {
   "cell_type": "code",
   "execution_count": 19,
   "id": "8d291915",
   "metadata": {},
   "outputs": [],
   "source": [
    "#create a list\n",
    "\n",
    "gamelist = [\"\",\"O\",\"\"]\n",
    "\n",
    "def display_list(list):\n",
    "    \n",
    "    from random import shuffle\n",
    "    \n",
    "    shuffle(list)\n",
    "    \n",
    "    return list\n",
    "\n",
    "#shuffle the list\n",
    "\n",
    "#return list"
   ]
  },
  {
   "cell_type": "code",
   "execution_count": 20,
   "id": "5f8fab88",
   "metadata": {},
   "outputs": [
    {
     "data": {
      "text/plain": [
       "['O', '', '']"
      ]
     },
     "execution_count": 20,
     "metadata": {},
     "output_type": "execute_result"
    }
   ],
   "source": [
    "display_list(gamelist)"
   ]
  },
  {
   "cell_type": "code",
   "execution_count": 26,
   "id": "b608f8c8",
   "metadata": {},
   "outputs": [],
   "source": [
    "#ask the user for the pos\n",
    "def position_choice():\n",
    "    \n",
    "    choice = \"\"\n",
    "    \n",
    "    while choice not in [\"0\",\"1\",\"2\"]:\n",
    "        \n",
    "        choice = input(\"please pick a number from (0,1,2): \")\n",
    "        \n",
    "        if choice not in [\"0\",\"1\",\"2\"]:\n",
    "            \n",
    "            print(\"please enter a valid input\")\n",
    "    return int(choice)        \n",
    "\n",
    "#return int(position)"
   ]
  },
  {
   "cell_type": "code",
   "execution_count": 27,
   "id": "57557dee",
   "metadata": {},
   "outputs": [],
   "source": [
    "#check\n",
    "\n",
    "def check(gamelist,choice):\n",
    "    \n",
    "    if gamelist[choice] == \"O\":\n",
    "        \n",
    "        print(\"you are correct!\")\n",
    "        \n",
    "    else:\n",
    "        \n",
    "        print(\"sorry better luck next time!\")\n",
    "        print(gamelist)\n",
    "\n",
    "#accordingly give the result"
   ]
  },
  {
   "cell_type": "code",
   "execution_count": 35,
   "id": "5730c8f0",
   "metadata": {},
   "outputs": [
    {
     "name": "stdout",
     "output_type": "stream",
     "text": [
      "please pick a number from (0,1,2): w4\n",
      "please enter a valid input\n",
      "please pick a number from (0,1,2): 0\n",
      "sorry better luck next time!\n",
      "['', 'O', '']\n"
     ]
    }
   ],
   "source": [
    "#compile all the funcs\n",
    "\n",
    "#initial list\n",
    "gamelist = [\"\",\"O\",\"\"]\n",
    "\n",
    "#shuffled list\n",
    "shuffled_list = display_list(gamelist)\n",
    "\n",
    "#choice\n",
    "choice = position_choice()\n",
    "\n",
    "#check\n",
    "check(gamelist,choice)"
   ]
  },
  {
   "cell_type": "code",
   "execution_count": null,
   "id": "3cf0e705",
   "metadata": {},
   "outputs": [],
   "source": []
  }
 ],
 "metadata": {
  "kernelspec": {
   "display_name": "Python 3",
   "language": "python",
   "name": "python3"
  },
  "language_info": {
   "codemirror_mode": {
    "name": "ipython",
    "version": 3
   },
   "file_extension": ".py",
   "mimetype": "text/x-python",
   "name": "python",
   "nbconvert_exporter": "python",
   "pygments_lexer": "ipython3",
   "version": "3.8.8"
  }
 },
 "nbformat": 4,
 "nbformat_minor": 5
}
