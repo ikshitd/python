{
 "cells": [
  {
   "cell_type": "code",
   "execution_count": 3,
   "id": "b2b00f29",
   "metadata": {},
   "outputs": [],
   "source": [
    "def my_func(a,b,c=0,d=0,e=0):\n",
    "    \n",
    "    return (a+b+c+d+e)*0.05\n",
    "    "
   ]
  },
  {
   "cell_type": "code",
   "execution_count": 5,
   "id": "2ef31549",
   "metadata": {},
   "outputs": [
    {
     "data": {
      "text/plain": [
       "5.0"
      ]
     },
     "execution_count": 5,
     "metadata": {},
     "output_type": "execute_result"
    }
   ],
   "source": [
    "my_func(10,20,70)"
   ]
  },
  {
   "cell_type": "code",
   "execution_count": 6,
   "id": "12d4ba4f",
   "metadata": {},
   "outputs": [],
   "source": [
    "def my_func(*args):\n",
    "    return sum(args)*0.05"
   ]
  },
  {
   "cell_type": "code",
   "execution_count": 8,
   "id": "1e31cfd3",
   "metadata": {},
   "outputs": [
    {
     "data": {
      "text/plain": [
       "5.0"
      ]
     },
     "execution_count": 8,
     "metadata": {},
     "output_type": "execute_result"
    }
   ],
   "source": [
    "my_func(40,60)"
   ]
  },
  {
   "cell_type": "markdown",
   "id": "9122d8b0",
   "metadata": {},
   "source": [
    "using (*args) you can basically assign as much as variables "
   ]
  },
  {
   "cell_type": "code",
   "execution_count": 9,
   "id": "a20932f8",
   "metadata": {},
   "outputs": [],
   "source": [
    "def my_func(**kwargs):\n",
    "    if \"fruit\" in kwargs:\n",
    "        print(\"my fruit of choice is {}\".format(kwargs[\"fruit\"]))\n",
    "    else:\n",
    "        print(\"I didn't find any fruit here\")"
   ]
  },
  {
   "cell_type": "code",
   "execution_count": 10,
   "id": "86fff20f",
   "metadata": {},
   "outputs": [
    {
     "name": "stdout",
     "output_type": "stream",
     "text": [
      "my fruit of choice is apple\n"
     ]
    }
   ],
   "source": [
    "my_func(fruit = \"apple\")"
   ]
  },
  {
   "cell_type": "code",
   "execution_count": 12,
   "id": "1c3249de",
   "metadata": {},
   "outputs": [
    {
     "name": "stdout",
     "output_type": "stream",
     "text": [
      "I didn't find any fruit here\n"
     ]
    }
   ],
   "source": [
    "my_func(veggie =\"potato\")"
   ]
  },
  {
   "cell_type": "code",
   "execution_count": 15,
   "id": "899d1f27",
   "metadata": {},
   "outputs": [],
   "source": [
    "def my_func(**kwargs):\n",
    "    if \"fruit\" in kwargs:\n",
    "        print(\"the fruit of my cboice is {}\".format(kwargs[\"fruit\"]))\n",
    "    else:\n",
    "        print(\"there is nothing here\")"
   ]
  },
  {
   "cell_type": "code",
   "execution_count": 16,
   "id": "628099b3",
   "metadata": {},
   "outputs": [
    {
     "name": "stdout",
     "output_type": "stream",
     "text": [
      "the fruit of my cboice is mangoes\n"
     ]
    }
   ],
   "source": [
    "my_func(fruit = \"mangoes\")"
   ]
  },
  {
   "cell_type": "code",
   "execution_count": 19,
   "id": "416c6f54",
   "metadata": {},
   "outputs": [],
   "source": [
    "def my_func(*args,**kwargs):\n",
    "    \n",
    "    print(\"i would like {} {}\".format(args[0],kwargs[\"food\"]))\n",
    "    "
   ]
  },
  {
   "cell_type": "code",
   "execution_count": 20,
   "id": "964c9870",
   "metadata": {},
   "outputs": [
    {
     "name": "stdout",
     "output_type": "stream",
     "text": [
      "i would like 10 samosa\n"
     ]
    }
   ],
   "source": [
    "my_func(10,20,30,food=\"samosa\",plane=\"airbus380\",game=\"pubg\")"
   ]
  },
  {
   "cell_type": "code",
   "execution_count": 21,
   "id": "797bc101",
   "metadata": {},
   "outputs": [],
   "source": [
    "def my_func(*args):\n",
    "    print(1+2+3+4+5+6+7+8+9+10)"
   ]
  },
  {
   "cell_type": "code",
   "execution_count": null,
   "id": "5f466b12",
   "metadata": {},
   "outputs": [],
   "source": [
    "myfunc"
   ]
  }
 ],
 "metadata": {
  "kernelspec": {
   "display_name": "Python 3",
   "language": "python",
   "name": "python3"
  },
  "language_info": {
   "codemirror_mode": {
    "name": "ipython",
    "version": 3
   },
   "file_extension": ".py",
   "mimetype": "text/x-python",
   "name": "python",
   "nbconvert_exporter": "python",
   "pygments_lexer": "ipython3",
   "version": "3.8.8"
  }
 },
 "nbformat": 4,
 "nbformat_minor": 5
}
