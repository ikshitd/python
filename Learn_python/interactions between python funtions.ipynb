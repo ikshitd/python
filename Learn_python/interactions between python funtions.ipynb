{
 "cells": [
  {
   "cell_type": "code",
   "execution_count": 1,
   "id": "b305f17f",
   "metadata": {},
   "outputs": [],
   "source": [
    "example = [1,2,3,4,5,6,7]"
   ]
  },
  {
   "cell_type": "code",
   "execution_count": 2,
   "id": "e0ce23df",
   "metadata": {},
   "outputs": [],
   "source": [
    "from random import shuffle"
   ]
  },
  {
   "cell_type": "code",
   "execution_count": 3,
   "id": "e3daa346",
   "metadata": {},
   "outputs": [],
   "source": [
    "shuffle(example)"
   ]
  },
  {
   "cell_type": "code",
   "execution_count": 4,
   "id": "5707d2d1",
   "metadata": {},
   "outputs": [
    {
     "data": {
      "text/plain": [
       "[6, 7, 2, 1, 5, 4, 3]"
      ]
     },
     "execution_count": 4,
     "metadata": {},
     "output_type": "execute_result"
    }
   ],
   "source": [
    "example"
   ]
  },
  {
   "cell_type": "code",
   "execution_count": 5,
   "id": "8aa7f600",
   "metadata": {},
   "outputs": [],
   "source": [
    "def shuffle_list(mylist):\n",
    "    shuffle(mylist)\n",
    "    return mylist"
   ]
  },
  {
   "cell_type": "code",
   "execution_count": 6,
   "id": "e6e5e35d",
   "metadata": {},
   "outputs": [],
   "source": [
    "result = shuffle_list(example)"
   ]
  },
  {
   "cell_type": "code",
   "execution_count": 8,
   "id": "e7768dde",
   "metadata": {},
   "outputs": [
    {
     "data": {
      "text/plain": [
       "[2, 1, 6, 3, 4, 7, 5]"
      ]
     },
     "execution_count": 8,
     "metadata": {},
     "output_type": "execute_result"
    }
   ],
   "source": [
    "result"
   ]
  },
  {
   "cell_type": "code",
   "execution_count": 9,
   "id": "6abff34b",
   "metadata": {},
   "outputs": [],
   "source": [
    "mylist = ['' , 'O','']"
   ]
  },
  {
   "cell_type": "code",
   "execution_count": 2,
   "id": "49ad637e",
   "metadata": {},
   "outputs": [],
   "source": [
    "#mention the list\n",
    "game_list = [\"\" , \"O\" ,\"\"]\n",
    "\n",
    "def shuffle(game_list):\n",
    "\n",
    "    from random import shuffle\n",
    "\n",
    "    shuffle(game_list)\n",
    "\n",
    "def user_input():\n",
    "\n",
    "    guess = \"\"\n",
    "\n",
    "    while guess not in [\"0\" , \"1\" , \"2\"]:\n",
    "\n",
    "        guess = input(\"Please enter a number from (0,1,2) : \")\n",
    "\n",
    "    return int(guess)\n",
    "\n",
    "def check_func(game_list,guess):\n",
    "\n",
    "    if game_list[guess] == \"O\":\n",
    "\n",
    "        print(\"You are correct!!\")\n",
    "\n",
    "    else:\n",
    "\n",
    "        print(\"Sorry better luck next time!!\")\n",
    "        print(game_list)\n",
    "\n",
    "\n",
    "\n",
    "\n",
    "\n"
   ]
  },
  {
   "cell_type": "code",
   "execution_count": null,
   "id": "277a7753",
   "metadata": {},
   "outputs": [],
   "source": []
  },
  {
   "cell_type": "code",
   "execution_count": null,
   "id": "22ca8472",
   "metadata": {},
   "outputs": [],
   "source": []
  }
 ],
 "metadata": {
  "kernelspec": {
   "display_name": "Python 3",
   "language": "python",
   "name": "python3"
  },
  "language_info": {
   "codemirror_mode": {
    "name": "ipython",
    "version": 3
   },
   "file_extension": ".py",
   "mimetype": "text/x-python",
   "name": "python",
   "nbconvert_exporter": "python",
   "pygments_lexer": "ipython3",
   "version": "3.8.8"
  }
 },
 "nbformat": 4,
 "nbformat_minor": 5
}
