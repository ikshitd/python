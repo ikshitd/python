{
 "cells": [
  {
   "cell_type": "code",
   "execution_count": 1,
   "id": "463b5bf6",
   "metadata": {},
   "outputs": [],
   "source": [
    "stock_prices = [(\"apple\",200) , (\"google\",400) , (\"microsoft\",100)]"
   ]
  },
  {
   "cell_type": "code",
   "execution_count": 2,
   "id": "d3a49dc6",
   "metadata": {},
   "outputs": [
    {
     "name": "stdout",
     "output_type": "stream",
     "text": [
      "('apple', 200)\n",
      "('google', 400)\n",
      "('microsoft', 100)\n"
     ]
    }
   ],
   "source": [
    "for items in stock_prices:\n",
    "    print(items)"
   ]
  },
  {
   "cell_type": "code",
   "execution_count": 3,
   "id": "27989489",
   "metadata": {},
   "outputs": [
    {
     "name": "stdout",
     "output_type": "stream",
     "text": [
      "apple\n",
      "google\n",
      "microsoft\n"
     ]
    }
   ],
   "source": [
    "for (a,b) in stock_prices:\n",
    "    print(a)"
   ]
  },
  {
   "cell_type": "code",
   "execution_count": 4,
   "id": "b6974549",
   "metadata": {},
   "outputs": [
    {
     "name": "stdout",
     "output_type": "stream",
     "text": [
      "220.0\n",
      "440.0\n",
      "110.0\n"
     ]
    }
   ],
   "source": [
    "for (a,b) in stock_prices:\n",
    "    print(b + (0.1*b))"
   ]
  },
  {
   "cell_type": "markdown",
   "id": "74e4e552",
   "metadata": {},
   "source": [
    "now let us solve a more complex problem"
   ]
  },
  {
   "cell_type": "code",
   "execution_count": 5,
   "id": "267c309b",
   "metadata": {},
   "outputs": [],
   "source": [
    "work_hours = [('abby', 100), ('billy', 400),('cassie', 800)]"
   ]
  },
  {
   "cell_type": "code",
   "execution_count": 7,
   "id": "b7e99795",
   "metadata": {},
   "outputs": [],
   "source": [
    "def employee_check(work_hours):\n",
    "    \n",
    "    current_max = 0\n",
    "    employee_of_the_month = \"\"\n",
    "    \n",
    "    for employee,hours in work_hours:\n",
    "        if hours > current_max:\n",
    "            current_max = hours\n",
    "            employee_of_the_month = employee\n",
    "        else:\n",
    "            pass\n",
    "    return (employee_of_the_month,current_max)    "
   ]
  },
  {
   "cell_type": "code",
   "execution_count": 8,
   "id": "56e72b5a",
   "metadata": {},
   "outputs": [
    {
     "data": {
      "text/plain": [
       "('cassie', 800)"
      ]
     },
     "execution_count": 8,
     "metadata": {},
     "output_type": "execute_result"
    }
   ],
   "source": [
    "employee_check(work_hours)"
   ]
  },
  {
   "cell_type": "code",
   "execution_count": 9,
   "id": "d42ec2de",
   "metadata": {},
   "outputs": [],
   "source": [
    "stock_options = [(\"apple\",2000),(\"microsoft\",1000),(\"google\",3000),(\"adobe\",1500)]"
   ]
  },
  {
   "cell_type": "code",
   "execution_count": 17,
   "id": "95ac05b1",
   "metadata": {},
   "outputs": [],
   "source": [
    "def stock_func(stock_options):\n",
    "    best_comp = \"\"\n",
    "    high_rate = 0\n",
    "    \n",
    "    for comp,price in stock_options:\n",
    "        if price > high_rate:\n",
    "            high_rate = price\n",
    "            best_comp = comp\n",
    "        else:\n",
    "            pass\n",
    "    return (best_comp,high_rate)    "
   ]
  },
  {
   "cell_type": "code",
   "execution_count": 18,
   "id": "216b414c",
   "metadata": {},
   "outputs": [
    {
     "data": {
      "text/plain": [
       "('google', 3000)"
      ]
     },
     "execution_count": 18,
     "metadata": {},
     "output_type": "execute_result"
    }
   ],
   "source": [
    "stock_func(stock_options)"
   ]
  },
  {
   "cell_type": "code",
   "execution_count": null,
   "id": "b00767d2",
   "metadata": {},
   "outputs": [],
   "source": []
  }
 ],
 "metadata": {
  "kernelspec": {
   "display_name": "Python 3",
   "language": "python",
   "name": "python3"
  },
  "language_info": {
   "codemirror_mode": {
    "name": "ipython",
    "version": 3
   },
   "file_extension": ".py",
   "mimetype": "text/x-python",
   "name": "python",
   "nbconvert_exporter": "python",
   "pygments_lexer": "ipython3",
   "version": "3.8.8"
  }
 },
 "nbformat": 4,
 "nbformat_minor": 5
}
