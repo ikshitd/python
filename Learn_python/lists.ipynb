{
 "cells": [
  {
   "cell_type": "code",
   "execution_count": 1,
   "id": "b38b6640",
   "metadata": {},
   "outputs": [],
   "source": [
    "my_string= [1,2,3]"
   ]
  },
  {
   "cell_type": "code",
   "execution_count": 2,
   "id": "ffd27b9d",
   "metadata": {},
   "outputs": [],
   "source": [
    "my_string= [\"string\", 100,23.1]"
   ]
  },
  {
   "cell_type": "code",
   "execution_count": 3,
   "id": "ac11ec04",
   "metadata": {},
   "outputs": [
    {
     "data": {
      "text/plain": [
       "3"
      ]
     },
     "execution_count": 3,
     "metadata": {},
     "output_type": "execute_result"
    }
   ],
   "source": [
    "len(my_string)"
   ]
  },
  {
   "cell_type": "code",
   "execution_count": 4,
   "id": "096d2a3d",
   "metadata": {},
   "outputs": [],
   "source": [
    "my_string=[\"one\", \" two\" , \"three\"]"
   ]
  },
  {
   "cell_type": "code",
   "execution_count": 6,
   "id": "f9d076b8",
   "metadata": {},
   "outputs": [
    {
     "data": {
      "text/plain": [
       "'one'"
      ]
     },
     "execution_count": 6,
     "metadata": {},
     "output_type": "execute_result"
    }
   ],
   "source": [
    "my_string[0]"
   ]
  },
  {
   "cell_type": "code",
   "execution_count": 7,
   "id": "462e4731",
   "metadata": {},
   "outputs": [
    {
     "data": {
      "text/plain": [
       "['one', ' two', 'three']"
      ]
     },
     "execution_count": 7,
     "metadata": {},
     "output_type": "execute_result"
    }
   ],
   "source": [
    "my_string[0:]"
   ]
  },
  {
   "cell_type": "code",
   "execution_count": 8,
   "id": "caf09dbf",
   "metadata": {},
   "outputs": [],
   "source": [
    "another_list = [\"four\" , \"five\"]"
   ]
  },
  {
   "cell_type": "code",
   "execution_count": 11,
   "id": "27816b8c",
   "metadata": {},
   "outputs": [],
   "source": [
    "new_list = my_string + another_list"
   ]
  },
  {
   "cell_type": "code",
   "execution_count": 12,
   "id": "e103d746",
   "metadata": {},
   "outputs": [
    {
     "data": {
      "text/plain": [
       "['one', ' two', 'three', 'four', 'five']"
      ]
     },
     "execution_count": 12,
     "metadata": {},
     "output_type": "execute_result"
    }
   ],
   "source": [
    "new_list"
   ]
  },
  {
   "cell_type": "code",
   "execution_count": 13,
   "id": "dc8e61d2",
   "metadata": {},
   "outputs": [
    {
     "data": {
      "text/plain": [
       "['one', ' two', 'three', 'four', 'five']"
      ]
     },
     "execution_count": 13,
     "metadata": {},
     "output_type": "execute_result"
    }
   ],
   "source": [
    "new_list"
   ]
  },
  {
   "cell_type": "code",
   "execution_count": 14,
   "id": "417ca95c",
   "metadata": {},
   "outputs": [],
   "source": [
    "new_list[0] =\"ONE\""
   ]
  },
  {
   "cell_type": "code",
   "execution_count": 15,
   "id": "86202daf",
   "metadata": {},
   "outputs": [
    {
     "data": {
      "text/plain": [
       "['ONE', ' two', 'three', 'four', 'five']"
      ]
     },
     "execution_count": 15,
     "metadata": {},
     "output_type": "execute_result"
    }
   ],
   "source": [
    "new_list"
   ]
  },
  {
   "cell_type": "code",
   "execution_count": 16,
   "id": "0e1ed9d2",
   "metadata": {},
   "outputs": [],
   "source": [
    "new_list.append(\"six\")"
   ]
  },
  {
   "cell_type": "code",
   "execution_count": 17,
   "id": "9c63fff5",
   "metadata": {},
   "outputs": [
    {
     "data": {
      "text/plain": [
       "['ONE', ' two', 'three', 'four', 'five', 'six']"
      ]
     },
     "execution_count": 17,
     "metadata": {},
     "output_type": "execute_result"
    }
   ],
   "source": [
    "new_list"
   ]
  },
  {
   "cell_type": "code",
   "execution_count": 18,
   "id": "5341153f",
   "metadata": {},
   "outputs": [],
   "source": [
    "new_list.append(\"seven\")"
   ]
  },
  {
   "cell_type": "code",
   "execution_count": 19,
   "id": "83ea84f7",
   "metadata": {},
   "outputs": [
    {
     "data": {
      "text/plain": [
       "['ONE', ' two', 'three', 'four', 'five', 'six', 'seven']"
      ]
     },
     "execution_count": 19,
     "metadata": {},
     "output_type": "execute_result"
    }
   ],
   "source": [
    "new_list"
   ]
  },
  {
   "cell_type": "code",
   "execution_count": 20,
   "id": "c58c2c60",
   "metadata": {},
   "outputs": [
    {
     "data": {
      "text/plain": [
       "'seven'"
      ]
     },
     "execution_count": 20,
     "metadata": {},
     "output_type": "execute_result"
    }
   ],
   "source": [
    "new_list.pop()"
   ]
  },
  {
   "cell_type": "code",
   "execution_count": 21,
   "id": "2f7f14c1",
   "metadata": {},
   "outputs": [
    {
     "data": {
      "text/plain": [
       "['ONE', ' two', 'three', 'four', 'five', 'six']"
      ]
     },
     "execution_count": 21,
     "metadata": {},
     "output_type": "execute_result"
    }
   ],
   "source": [
    "new_list"
   ]
  },
  {
   "cell_type": "code",
   "execution_count": 22,
   "id": "8985219a",
   "metadata": {},
   "outputs": [],
   "source": [
    "popped_item = new_list.pop()"
   ]
  },
  {
   "cell_type": "code",
   "execution_count": 23,
   "id": "6cfab58e",
   "metadata": {},
   "outputs": [
    {
     "data": {
      "text/plain": [
       "'six'"
      ]
     },
     "execution_count": 23,
     "metadata": {},
     "output_type": "execute_result"
    }
   ],
   "source": [
    "popped_item"
   ]
  },
  {
   "cell_type": "code",
   "execution_count": 25,
   "id": "05345b39",
   "metadata": {},
   "outputs": [
    {
     "data": {
      "text/plain": [
       "['ONE', ' two', 'three', 'four', 'five']"
      ]
     },
     "execution_count": 25,
     "metadata": {},
     "output_type": "execute_result"
    }
   ],
   "source": [
    "new_list"
   ]
  },
  {
   "cell_type": "code",
   "execution_count": 26,
   "id": "c59429f3",
   "metadata": {},
   "outputs": [
    {
     "data": {
      "text/plain": [
       "'ONE'"
      ]
     },
     "execution_count": 26,
     "metadata": {},
     "output_type": "execute_result"
    }
   ],
   "source": [
    "new_list.pop(0)"
   ]
  },
  {
   "cell_type": "code",
   "execution_count": 27,
   "id": "01679a51",
   "metadata": {},
   "outputs": [
    {
     "data": {
      "text/plain": [
       "[' two', 'three', 'four', 'five']"
      ]
     },
     "execution_count": 27,
     "metadata": {},
     "output_type": "execute_result"
    }
   ],
   "source": [
    "new_list"
   ]
  },
  {
   "cell_type": "code",
   "execution_count": 28,
   "id": "b37f79c7",
   "metadata": {},
   "outputs": [],
   "source": [
    "new_list= [\"a\", \"e\", \"x\", \"b\", \"c\"]\n",
    "num_list= [4,1,8,3]"
   ]
  },
  {
   "cell_type": "code",
   "execution_count": 29,
   "id": "3645078d",
   "metadata": {},
   "outputs": [],
   "source": [
    "new_list.sort()"
   ]
  },
  {
   "cell_type": "code",
   "execution_count": 30,
   "id": "de5d1d04",
   "metadata": {},
   "outputs": [
    {
     "data": {
      "text/plain": [
       "['a', 'b', 'c', 'e', 'x']"
      ]
     },
     "execution_count": 30,
     "metadata": {},
     "output_type": "execute_result"
    }
   ],
   "source": [
    "new_list"
   ]
  },
  {
   "cell_type": "markdown",
   "id": "8c7931b9",
   "metadata": {},
   "source": [
    "sometimes what people do is they assign a variable to the sorted list but since this function doesn't revert anything back so it  doesn't give you anything . take a look at it yourself . "
   ]
  },
  {
   "cell_type": "code",
   "execution_count": 31,
   "id": "b18566a5",
   "metadata": {},
   "outputs": [],
   "source": [
    "my_sorted_list = new_list.sort()"
   ]
  },
  {
   "cell_type": "code",
   "execution_count": 33,
   "id": "1d24aefe",
   "metadata": {},
   "outputs": [
    {
     "data": {
      "text/plain": [
       "NoneType"
      ]
     },
     "execution_count": 33,
     "metadata": {},
     "output_type": "execute_result"
    }
   ],
   "source": [
    "type(my_sorted_list)"
   ]
  },
  {
   "cell_type": "code",
   "execution_count": 34,
   "id": "feb060ae",
   "metadata": {},
   "outputs": [],
   "source": [
    "None "
   ]
  },
  {
   "cell_type": "markdown",
   "id": "d847b46c",
   "metadata": {},
   "source": [
    "but what if we really want to do that . let's take a look . "
   ]
  },
  {
   "cell_type": "code",
   "execution_count": 35,
   "id": "6b34a227",
   "metadata": {},
   "outputs": [],
   "source": [
    "new_list.sort()\n",
    "my_sorted_list = new_list"
   ]
  },
  {
   "cell_type": "code",
   "execution_count": 36,
   "id": "d1ba6707",
   "metadata": {},
   "outputs": [
    {
     "data": {
      "text/plain": [
       "['a', 'b', 'c', 'e', 'x']"
      ]
     },
     "execution_count": 36,
     "metadata": {},
     "output_type": "execute_result"
    }
   ],
   "source": [
    "my_sorted_list"
   ]
  },
  {
   "cell_type": "code",
   "execution_count": 37,
   "id": "39d78c13",
   "metadata": {},
   "outputs": [],
   "source": [
    "num_list.sort()"
   ]
  },
  {
   "cell_type": "code",
   "execution_count": 38,
   "id": "d2326681",
   "metadata": {},
   "outputs": [
    {
     "data": {
      "text/plain": [
       "[1, 3, 4, 8]"
      ]
     },
     "execution_count": 38,
     "metadata": {},
     "output_type": "execute_result"
    }
   ],
   "source": [
    "num_list"
   ]
  },
  {
   "cell_type": "code",
   "execution_count": 39,
   "id": "62a9178c",
   "metadata": {},
   "outputs": [],
   "source": [
    "num_list.reverse()"
   ]
  },
  {
   "cell_type": "code",
   "execution_count": 40,
   "id": "b0e253c3",
   "metadata": {},
   "outputs": [
    {
     "data": {
      "text/plain": [
       "[8, 4, 3, 1]"
      ]
     },
     "execution_count": 40,
     "metadata": {},
     "output_type": "execute_result"
    }
   ],
   "source": [
    "num_list"
   ]
  },
  {
   "cell_type": "code",
   "execution_count": null,
   "id": "30bcba60",
   "metadata": {},
   "outputs": [],
   "source": []
  }
 ],
 "metadata": {
  "kernelspec": {
   "display_name": "Python 3",
   "language": "python",
   "name": "python3"
  },
  "language_info": {
   "codemirror_mode": {
    "name": "ipython",
    "version": 3
   },
   "file_extension": ".py",
   "mimetype": "text/x-python",
   "name": "python",
   "nbconvert_exporter": "python",
   "pygments_lexer": "ipython3",
   "version": "3.8.8"
  }
 },
 "nbformat": 4,
 "nbformat_minor": 5
}
