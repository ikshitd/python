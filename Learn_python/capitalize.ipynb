{
 "cells": [
  {
   "cell_type": "markdown",
   "id": "a827a70f",
   "metadata": {},
   "source": [
    "capitalize method = what it basically does is that it capitalize the first letter of the string\n"
   ]
  },
  {
   "cell_type": "markdown",
   "id": "a5a4db71",
   "metadata": {},
   "source": [
    "OLD MACDONALD: Write a function that capitalizes the first and fourth letters of a name\n",
    "old_macdonald('macdonald') --> MacDonald"
   ]
  },
  {
   "cell_type": "code",
   "execution_count": 5,
   "id": "733bff9f",
   "metadata": {},
   "outputs": [],
   "source": [
    "def old_macdonald(name):\n",
    "    first_half = name [:3]\n",
    "    second_half = name[3:]\n",
    "    \n",
    "    return first_half.capitalize() + second_half.scapitalize()"
   ]
  },
  {
   "cell_type": "code",
   "execution_count": 6,
   "id": "7ffb17ca",
   "metadata": {},
   "outputs": [
    {
     "data": {
      "text/plain": [
       "'IksHit'"
      ]
     },
     "execution_count": 6,
     "metadata": {},
     "output_type": "execute_result"
    }
   ],
   "source": [
    "old_macdonald(\"ikshit\")"
   ]
  },
  {
   "cell_type": "code",
   "execution_count": 9,
   "id": "16830c45",
   "metadata": {},
   "outputs": [],
   "source": [
    "my_list =[\"a\",'b','c']"
   ]
  },
  {
   "cell_type": "code",
   "execution_count": 10,
   "id": "3f0a655a",
   "metadata": {},
   "outputs": [
    {
     "data": {
      "text/plain": [
       "'abc'"
      ]
     },
     "execution_count": 10,
     "metadata": {},
     "output_type": "execute_result"
    }
   ],
   "source": [
    "\"\".join(my_list)"
   ]
  },
  {
   "cell_type": "code",
   "execution_count": null,
   "id": "c8720c96",
   "metadata": {},
   "outputs": [],
   "source": []
  }
 ],
 "metadata": {
  "kernelspec": {
   "display_name": "Python 3",
   "language": "python",
   "name": "python3"
  },
  "language_info": {
   "codemirror_mode": {
    "name": "ipython",
    "version": 3
   },
   "file_extension": ".py",
   "mimetype": "text/x-python",
   "name": "python",
   "nbconvert_exporter": "python",
   "pygments_lexer": "ipython3",
   "version": "3.8.8"
  }
 },
 "nbformat": 4,
 "nbformat_minor": 5
}
