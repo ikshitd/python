{
 "cells": [
  {
   "cell_type": "code",
   "execution_count": 1,
   "id": "923abf35",
   "metadata": {},
   "outputs": [
    {
     "name": "stdout",
     "output_type": "stream",
     "text": [
      "Writing myfile.txt\n"
     ]
    }
   ],
   "source": [
    "%%writefile myfile.txt\n",
    "hello this is a text file\n",
    "this is the second line\n",
    "this is the third line"
   ]
  },
  {
   "cell_type": "code",
   "execution_count": 4,
   "id": "cc676651",
   "metadata": {},
   "outputs": [],
   "source": [
    "myfile = open(\"myfile.txt\")"
   ]
  },
  {
   "cell_type": "code",
   "execution_count": 5,
   "id": "9239d890",
   "metadata": {},
   "outputs": [
    {
     "data": {
      "text/plain": [
       "'C:\\\\Users\\\\Vaibhav Dhyani\\\\my python - ikshit.d'"
      ]
     },
     "execution_count": 5,
     "metadata": {},
     "output_type": "execute_result"
    }
   ],
   "source": [
    "pwd"
   ]
  },
  {
   "cell_type": "code",
   "execution_count": 6,
   "id": "4f68ff1d",
   "metadata": {},
   "outputs": [],
   "source": [
    "myfile = open(\"myfile.txt\")"
   ]
  },
  {
   "cell_type": "code",
   "execution_count": 7,
   "id": "4f4ddf80",
   "metadata": {},
   "outputs": [
    {
     "data": {
      "text/plain": [
       "'hello this is a text file\\nthis is the second line\\nthis is the third line\\n'"
      ]
     },
     "execution_count": 7,
     "metadata": {},
     "output_type": "execute_result"
    }
   ],
   "source": [
    "myfile.read()"
   ]
  },
  {
   "cell_type": "code",
   "execution_count": 8,
   "id": "980987a7",
   "metadata": {},
   "outputs": [
    {
     "data": {
      "text/plain": [
       "''"
      ]
     },
     "execution_count": 8,
     "metadata": {},
     "output_type": "execute_result"
    }
   ],
   "source": [
    "myfile.read()"
   ]
  },
  {
   "cell_type": "code",
   "execution_count": 9,
   "id": "af8b7675",
   "metadata": {},
   "outputs": [
    {
     "data": {
      "text/plain": [
       "0"
      ]
     },
     "execution_count": 9,
     "metadata": {},
     "output_type": "execute_result"
    }
   ],
   "source": [
    "myfile.seek(0)"
   ]
  },
  {
   "cell_type": "code",
   "execution_count": 10,
   "id": "11ab3c0a",
   "metadata": {},
   "outputs": [
    {
     "data": {
      "text/plain": [
       "'hello this is a text file\\nthis is the second line\\nthis is the third line\\n'"
      ]
     },
     "execution_count": 10,
     "metadata": {},
     "output_type": "execute_result"
    }
   ],
   "source": [
    "myfile.read()"
   ]
  },
  {
   "cell_type": "code",
   "execution_count": 11,
   "id": "8b332ea1",
   "metadata": {},
   "outputs": [
    {
     "data": {
      "text/plain": [
       "0"
      ]
     },
     "execution_count": 11,
     "metadata": {},
     "output_type": "execute_result"
    }
   ],
   "source": [
    "myfile.seek(0)"
   ]
  },
  {
   "cell_type": "code",
   "execution_count": 12,
   "id": "cd1acd22",
   "metadata": {},
   "outputs": [],
   "source": [
    "contents = myfile.read()"
   ]
  },
  {
   "cell_type": "code",
   "execution_count": 13,
   "id": "3cf45172",
   "metadata": {},
   "outputs": [
    {
     "data": {
      "text/plain": [
       "'hello this is a text file\\nthis is the second line\\nthis is the third line\\n'"
      ]
     },
     "execution_count": 13,
     "metadata": {},
     "output_type": "execute_result"
    }
   ],
   "source": [
    "contents"
   ]
  },
  {
   "cell_type": "code",
   "execution_count": 14,
   "id": "77408fcb",
   "metadata": {},
   "outputs": [
    {
     "data": {
      "text/plain": [
       "0"
      ]
     },
     "execution_count": 14,
     "metadata": {},
     "output_type": "execute_result"
    }
   ],
   "source": [
    "myfile.seek(0)"
   ]
  },
  {
   "cell_type": "code",
   "execution_count": 15,
   "id": "d0566cc8",
   "metadata": {},
   "outputs": [
    {
     "data": {
      "text/plain": [
       "['hello this is a text file\\n',\n",
       " 'this is the second line\\n',\n",
       " 'this is the third line\\n']"
      ]
     },
     "execution_count": 15,
     "metadata": {},
     "output_type": "execute_result"
    }
   ],
   "source": [
    "myfile.readlines()"
   ]
  },
  {
   "cell_type": "markdown",
   "id": "fb12c148",
   "metadata": {},
   "source": [
    "file locations "
   ]
  },
  {
   "cell_type": "code",
   "execution_count": 16,
   "id": "c0a142d2",
   "metadata": {},
   "outputs": [
    {
     "data": {
      "text/plain": [
       "'C:\\\\Users\\\\Vaibhav Dhyani\\\\my python - ikshit.d'"
      ]
     },
     "execution_count": 16,
     "metadata": {},
     "output_type": "execute_result"
    }
   ],
   "source": [
    "pwd"
   ]
  },
  {
   "cell_type": "code",
   "execution_count": 17,
   "id": "10f01273",
   "metadata": {},
   "outputs": [
    {
     "name": "stdout",
     "output_type": "stream",
     "text": [
      "Writing python.txt\n"
     ]
    }
   ],
   "source": [
    "%%writefile python.txt\n",
    "this is a testing file \n",
    "i am new to python in fact \n",
    "i am new to coding "
   ]
  },
  {
   "cell_type": "code",
   "execution_count": 20,
   "id": "6fd0ff56",
   "metadata": {},
   "outputs": [],
   "source": [
    "python = open(\"python.txt\")"
   ]
  },
  {
   "cell_type": "code",
   "execution_count": 21,
   "id": "0bf8990d",
   "metadata": {},
   "outputs": [
    {
     "data": {
      "text/plain": [
       "'this is a testing file \\ni am new to python in fact \\ni am new to coding \\n'"
      ]
     },
     "execution_count": 21,
     "metadata": {},
     "output_type": "execute_result"
    }
   ],
   "source": [
    "python.read()"
   ]
  },
  {
   "cell_type": "code",
   "execution_count": 22,
   "id": "a713d0cf",
   "metadata": {},
   "outputs": [
    {
     "data": {
      "text/plain": [
       "0"
      ]
     },
     "execution_count": 22,
     "metadata": {},
     "output_type": "execute_result"
    }
   ],
   "source": [
    "python.seek(0)"
   ]
  },
  {
   "cell_type": "code",
   "execution_count": 23,
   "id": "951264c4",
   "metadata": {},
   "outputs": [
    {
     "data": {
      "text/plain": [
       "['this is a testing file \\n',\n",
       " 'i am new to python in fact \\n',\n",
       " 'i am new to coding \\n']"
      ]
     },
     "execution_count": 23,
     "metadata": {},
     "output_type": "execute_result"
    }
   ],
   "source": [
    "python.readlines()"
   ]
  },
  {
   "cell_type": "markdown",
   "id": "f0fc809b",
   "metadata": {},
   "source": [
    "why are we using this special \"with\" statements , the reason is that when you are accessing thi file named \"python.txt\" and you forgot to close it , and maybe later you are trying access it maybe to delete it or overwrite it , then it shows an error that this file is already running in python . so one of the way to solve is that you can use the command \"python.close()\", so to avoid this , we can directly use the with statement to overcome this issue and open python file as a new file by assigning  a new variable . "
   ]
  },
  {
   "cell_type": "code",
   "execution_count": 25,
   "id": "bea834a3",
   "metadata": {},
   "outputs": [],
   "source": [
    "with open(\"python.txt\") as new_python:\n",
    "    contents = new_python.readlines()"
   ]
  },
  {
   "cell_type": "code",
   "execution_count": 26,
   "id": "122a0252",
   "metadata": {},
   "outputs": [
    {
     "data": {
      "text/plain": [
       "['this is a testing file \\n',\n",
       " 'i am new to python in fact \\n',\n",
       " 'i am new to coding \\n']"
      ]
     },
     "execution_count": 26,
     "metadata": {},
     "output_type": "execute_result"
    }
   ],
   "source": [
    "contents "
   ]
  },
  {
   "cell_type": "code",
   "execution_count": 27,
   "id": "bbccfcb9",
   "metadata": {},
   "outputs": [],
   "source": [
    "with open(\"python.txt\",mode = \"r\") as new_python:\n",
    "    contents = new_python.readlines()"
   ]
  },
  {
   "cell_type": "code",
   "execution_count": 28,
   "id": "c989dcd3",
   "metadata": {},
   "outputs": [
    {
     "data": {
      "text/plain": [
       "['this is a testing file \\n',\n",
       " 'i am new to python in fact \\n',\n",
       " 'i am new to coding \\n']"
      ]
     },
     "execution_count": 28,
     "metadata": {},
     "output_type": "execute_result"
    }
   ],
   "source": [
    "contents"
   ]
  },
  {
   "cell_type": "code",
   "execution_count": 30,
   "id": "009293e9",
   "metadata": {},
   "outputs": [
    {
     "name": "stdout",
     "output_type": "stream",
     "text": [
      "Writing my_new_file.txt\n"
     ]
    }
   ],
   "source": [
    "%%writefile my_new_file.txt\n",
    "one on first\n",
    "two on second \n",
    "three on third"
   ]
  },
  {
   "cell_type": "code",
   "execution_count": 32,
   "id": "828a6cbb",
   "metadata": {},
   "outputs": [
    {
     "name": "stdout",
     "output_type": "stream",
     "text": [
      "one on first\n",
      "two on second \n",
      "three on third\n",
      "\n"
     ]
    }
   ],
   "source": [
    "with open(\"my_new_file.txt\", mode =\"r\") as f:\n",
    "    print(f.read())"
   ]
  },
  {
   "cell_type": "code",
   "execution_count": 33,
   "id": "58f9e66d",
   "metadata": {},
   "outputs": [],
   "source": [
    "with open (\"my_new_file.txt\", mode=\"a\") as f:\n",
    "    f.write(\"\\nfour on forth\")"
   ]
  },
  {
   "cell_type": "code",
   "execution_count": 34,
   "id": "551d527d",
   "metadata": {},
   "outputs": [
    {
     "name": "stdout",
     "output_type": "stream",
     "text": [
      "one on first\n",
      "two on second \n",
      "three on third\n",
      "four on forth\n"
     ]
    }
   ],
   "source": [
    "with open(\"my_new_file.txt\", mode = \"r\") as f:\n",
    "    print(f.read())"
   ]
  },
  {
   "cell_type": "code",
   "execution_count": 37,
   "id": "a4d0aa4a",
   "metadata": {},
   "outputs": [
    {
     "name": "stdout",
     "output_type": "stream",
     "text": [
      "19\n"
     ]
    }
   ],
   "source": [
    "with open(\"dhndjdbsdsusu.txt\",mode = \"w\") as g:\n",
    "    print(g.write(\"i created this file\"))"
   ]
  },
  {
   "cell_type": "code",
   "execution_count": 38,
   "id": "c9e7a22a",
   "metadata": {},
   "outputs": [
    {
     "name": "stdout",
     "output_type": "stream",
     "text": [
      "i created this file\n"
     ]
    }
   ],
   "source": [
    "with open(\"dhndjdbsdsusu.txt\", mode=\"r\") as g:\n",
    "    print(g.read())"
   ]
  },
  {
   "cell_type": "code",
   "execution_count": null,
   "id": "eec2373f",
   "metadata": {},
   "outputs": [],
   "source": []
  }
 ],
 "metadata": {
  "kernelspec": {
   "display_name": "Python 3",
   "language": "python",
   "name": "python3"
  },
  "language_info": {
   "codemirror_mode": {
    "name": "ipython",
    "version": 3
   },
   "file_extension": ".py",
   "mimetype": "text/x-python",
   "name": "python",
   "nbconvert_exporter": "python",
   "pygments_lexer": "ipython3",
   "version": "3.8.8"
  }
 },
 "nbformat": 4,
 "nbformat_minor": 5
}
