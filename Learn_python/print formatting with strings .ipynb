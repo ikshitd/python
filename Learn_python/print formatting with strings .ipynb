{
 "cells": [
  {
   "cell_type": "code",
   "execution_count": 1,
   "id": "fc3e3f56",
   "metadata": {},
   "outputs": [],
   "source": [
    "my_name = \"ikshit\""
   ]
  },
  {
   "cell_type": "code",
   "execution_count": 4,
   "id": "3dd09e41",
   "metadata": {},
   "outputs": [
    {
     "name": "stdout",
     "output_type": "stream",
     "text": [
      "helloikshit\n"
     ]
    }
   ],
   "source": [
    "print(\"hello\"  +  my_name)"
   ]
  },
  {
   "cell_type": "code",
   "execution_count": 5,
   "id": "b624959e",
   "metadata": {},
   "outputs": [
    {
     "name": "stdout",
     "output_type": "stream",
     "text": [
      "this is a string\n"
     ]
    }
   ],
   "source": [
    "print ( \"this is a string\")"
   ]
  },
  {
   "cell_type": "code",
   "execution_count": 6,
   "id": "884ed4f1",
   "metadata": {},
   "outputs": [
    {
     "name": "stdout",
     "output_type": "stream",
     "text": [
      " this is a string inserted\n"
     ]
    }
   ],
   "source": [
    "print (\" this is a string {}\".format('inserted'))"
   ]
  },
  {
   "cell_type": "code",
   "execution_count": 7,
   "id": "f134d564",
   "metadata": {},
   "outputs": [
    {
     "name": "stdout",
     "output_type": "stream",
     "text": [
      "helloikshit\n"
     ]
    }
   ],
   "source": [
    "print ('hello{}'.format('ikshit'))"
   ]
  },
  {
   "cell_type": "code",
   "execution_count": 9,
   "id": "a559d560",
   "metadata": {},
   "outputs": [
    {
     "name": "stdout",
     "output_type": "stream",
     "text": [
      "the fox brown quick\n"
     ]
    }
   ],
   "source": [
    "print ('the {} {} {}'.format('fox' , 'brown', 'quick'))"
   ]
  },
  {
   "cell_type": "code",
   "execution_count": 10,
   "id": "1105e087",
   "metadata": {},
   "outputs": [
    {
     "name": "stdout",
     "output_type": "stream",
     "text": [
      "the quick brown fox\n"
     ]
    }
   ],
   "source": [
    "print ('the {2} {1} {0}'.format('fox', 'brown','quick'))"
   ]
  },
  {
   "cell_type": "code",
   "execution_count": 11,
   "id": "4956ab44",
   "metadata": {},
   "outputs": [
    {
     "name": "stdout",
     "output_type": "stream",
     "text": [
      "the fox fox fox\n"
     ]
    }
   ],
   "source": [
    "print ('the {0} {0} {0}'.format('fox' , 'brown', 'quick'))"
   ]
  },
  {
   "cell_type": "markdown",
   "id": "daa9c678",
   "metadata": {},
   "source": [
    "we can also use the concept of variable assignment in here , lets take an example,."
   ]
  },
  {
   "cell_type": "code",
   "execution_count": 12,
   "id": "79143871",
   "metadata": {},
   "outputs": [
    {
     "name": "stdout",
     "output_type": "stream",
     "text": [
      "the quick brown fox\n"
     ]
    }
   ],
   "source": [
    "print ('the {q} {b} {f}'.format(f='fox' , b='brown', q='quick'))"
   ]
  },
  {
   "cell_type": "code",
   "execution_count": 13,
   "id": "a65b1427",
   "metadata": {},
   "outputs": [],
   "source": [
    "result =100/777"
   ]
  },
  {
   "cell_type": "code",
   "execution_count": 14,
   "id": "1e6d10d6",
   "metadata": {},
   "outputs": [
    {
     "data": {
      "text/plain": [
       "0.1287001287001287"
      ]
     },
     "execution_count": 14,
     "metadata": {},
     "output_type": "execute_result"
    }
   ],
   "source": [
    "result"
   ]
  },
  {
   "cell_type": "code",
   "execution_count": 16,
   "id": "5af658c0",
   "metadata": {},
   "outputs": [
    {
     "name": "stdout",
     "output_type": "stream",
     "text": [
      "the result was 0.1287001287001287\n"
     ]
    }
   ],
   "source": [
    "print(\"the result was {}\".format(result))"
   ]
  },
  {
   "cell_type": "code",
   "execution_count": 17,
   "id": "bc576b31",
   "metadata": {},
   "outputs": [
    {
     "name": "stdout",
     "output_type": "stream",
     "text": [
      "the result was 0.1287001287001287\n"
     ]
    }
   ],
   "source": [
    "print(\"the result was {r}\".format(r=result))"
   ]
  },
  {
   "cell_type": "markdown",
   "id": "ebd819c0",
   "metadata": {},
   "source": [
    "float formating follows \"{value:width.precision f}\" (counting always begin from 1 after decimal)"
   ]
  },
  {
   "cell_type": "code",
   "execution_count": 20,
   "id": "78f5b44a",
   "metadata": {},
   "outputs": [
    {
     "name": "stdout",
     "output_type": "stream",
     "text": [
      "the result is 0.129\n"
     ]
    }
   ],
   "source": [
    "print(\"the result is {r:1.3f}\".format(r=result))"
   ]
  },
  {
   "cell_type": "code",
   "execution_count": 23,
   "id": "0ba833bc",
   "metadata": {},
   "outputs": [],
   "source": [
    "result = 104.12345"
   ]
  },
  {
   "cell_type": "code",
   "execution_count": 24,
   "id": "547f07ec",
   "metadata": {},
   "outputs": [
    {
     "data": {
      "text/plain": [
       "104.12345"
      ]
     },
     "execution_count": 24,
     "metadata": {},
     "output_type": "execute_result"
    }
   ],
   "source": [
    "result"
   ]
  },
  {
   "cell_type": "code",
   "execution_count": 26,
   "id": "0ab7aa66",
   "metadata": {},
   "outputs": [
    {
     "name": "stdout",
     "output_type": "stream",
     "text": [
      "the result is 104.123\n"
     ]
    }
   ],
   "source": [
    "print(\"the result is {r:1.3f}\".format(r = result))"
   ]
  },
  {
   "cell_type": "code",
   "execution_count": null,
   "id": "6cad87f0",
   "metadata": {},
   "outputs": [],
   "source": []
  },
  {
   "cell_type": "code",
   "execution_count": null,
   "id": "83daaf3f",
   "metadata": {},
   "outputs": [],
   "source": []
  },
  {
   "cell_type": "code",
   "execution_count": 27,
   "id": "51a58756",
   "metadata": {},
   "outputs": [],
   "source": [
    "name = \"ikshit\""
   ]
  },
  {
   "cell_type": "code",
   "execution_count": 28,
   "id": "38963118",
   "metadata": {},
   "outputs": [
    {
     "name": "stdout",
     "output_type": "stream",
     "text": [
      "hello his name is ikshit\n"
     ]
    }
   ],
   "source": [
    "print(\"hello his name is {}\".format(name))"
   ]
  },
  {
   "cell_type": "markdown",
   "id": "9024b294",
   "metadata": {},
   "source": [
    "another way of doing the same thing is "
   ]
  },
  {
   "cell_type": "code",
   "execution_count": 31,
   "id": "695bdadd",
   "metadata": {},
   "outputs": [
    {
     "name": "stdout",
     "output_type": "stream",
     "text": [
      "hello his name is ikshit\n"
     ]
    }
   ],
   "source": [
    "print (f\"hello his name is {name}\")"
   ]
  },
  {
   "cell_type": "code",
   "execution_count": 36,
   "id": "f0a442d1",
   "metadata": {},
   "outputs": [
    {
     "name": "stdout",
     "output_type": "stream",
     "text": [
      "sam is 3 years old\n"
     ]
    }
   ],
   "source": [
    "print(\"{} is {} years old\".format('sam' , '3'))"
   ]
  },
  {
   "cell_type": "markdown",
   "id": "6b43962f",
   "metadata": {},
   "source": [
    "OR"
   ]
  },
  {
   "cell_type": "code",
   "execution_count": 38,
   "id": "181ffa60",
   "metadata": {},
   "outputs": [],
   "source": [
    "name = \"sam\"\n",
    "age = 3"
   ]
  },
  {
   "cell_type": "code",
   "execution_count": 39,
   "id": "44559894",
   "metadata": {},
   "outputs": [
    {
     "name": "stdout",
     "output_type": "stream",
     "text": [
      "sam is 3 years old\n"
     ]
    }
   ],
   "source": [
    "print(f\"{name} is {age} years old\")"
   ]
  },
  {
   "cell_type": "code",
   "execution_count": 41,
   "id": "20cba088",
   "metadata": {},
   "outputs": [
    {
     "name": "stdout",
     "output_type": "stream",
     "text": [
      "sam is 3 years old\n"
     ]
    }
   ],
   "source": [
    "print(\"{} is {} years old\".format(name, age))"
   ]
  },
  {
   "cell_type": "code",
   "execution_count": null,
   "id": "3eb1169a",
   "metadata": {},
   "outputs": [],
   "source": []
  }
 ],
 "metadata": {
  "kernelspec": {
   "display_name": "Python 3",
   "language": "python",
   "name": "python3"
  },
  "language_info": {
   "codemirror_mode": {
    "name": "ipython",
    "version": 3
   },
   "file_extension": ".py",
   "mimetype": "text/x-python",
   "name": "python",
   "nbconvert_exporter": "python",
   "pygments_lexer": "ipython3",
   "version": "3.8.8"
  }
 },
 "nbformat": 4,
 "nbformat_minor": 5
}
