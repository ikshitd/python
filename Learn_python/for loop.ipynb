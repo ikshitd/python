{
 "cells": [
  {
   "cell_type": "code",
   "execution_count": 2,
   "id": "a70a62de",
   "metadata": {},
   "outputs": [],
   "source": [
    "my_list = [\"ikshit\" , \"good\", \"boy\", \"harry\"]"
   ]
  },
  {
   "cell_type": "code",
   "execution_count": 3,
   "id": "d179ae09",
   "metadata": {},
   "outputs": [
    {
     "name": "stdout",
     "output_type": "stream",
     "text": [
      "ikshit\n",
      "good\n",
      "boy\n",
      "harry\n"
     ]
    }
   ],
   "source": [
    "for items in my_list:\n",
    "    print(items)"
   ]
  },
  {
   "cell_type": "code",
   "execution_count": 6,
   "id": "09076d61",
   "metadata": {},
   "outputs": [],
   "source": [
    "my_string = [1,2,3,4,5,6,7,8,9,10]"
   ]
  },
  {
   "cell_type": "code",
   "execution_count": 11,
   "id": "e6d666e6",
   "metadata": {},
   "outputs": [
    {
     "name": "stdout",
     "output_type": "stream",
     "text": [
      "odd no. 1\n",
      "2\n",
      "odd no. 3\n",
      "4\n",
      "odd no. 5\n",
      "6\n",
      "odd no. 7\n",
      "8\n",
      "odd no. 9\n",
      "10\n"
     ]
    }
   ],
   "source": [
    "for num in my_string:\n",
    "    if (num % 2 == 0):\n",
    "        print(num)\n",
    "    else:\n",
    "        print(f\"odd no. {num}\")"
   ]
  },
  {
   "cell_type": "code",
   "execution_count": null,
   "id": "5e1acc3b",
   "metadata": {},
   "outputs": [],
   "source": []
  },
  {
   "cell_type": "code",
   "execution_count": null,
   "id": "90b8b913",
   "metadata": {},
   "outputs": [],
   "source": []
  }
 ],
 "metadata": {
  "kernelspec": {
   "display_name": "Python 3",
   "language": "python",
   "name": "python3"
  },
  "language_info": {
   "codemirror_mode": {
    "name": "ipython",
    "version": 3
   },
   "file_extension": ".py",
   "mimetype": "text/x-python",
   "name": "python",
   "nbconvert_exporter": "python",
   "pygments_lexer": "ipython3",
   "version": "3.8.8"
  }
 },
 "nbformat": 4,
 "nbformat_minor": 5
}
