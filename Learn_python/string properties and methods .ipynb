{
 "cells": [
  {
   "cell_type": "code",
   "execution_count": 1,
   "id": "abe1d815",
   "metadata": {},
   "outputs": [],
   "source": [
    "name =\"sam\""
   ]
  },
  {
   "cell_type": "code",
   "execution_count": 3,
   "id": "3f3a9abd",
   "metadata": {},
   "outputs": [],
   "source": [
    "#name[0] = \"p\""
   ]
  },
  {
   "cell_type": "code",
   "execution_count": 6,
   "id": "8d4d02fd",
   "metadata": {},
   "outputs": [],
   "source": [
    "last_letter=name[1:]"
   ]
  },
  {
   "cell_type": "code",
   "execution_count": 7,
   "id": "e6afd10d",
   "metadata": {},
   "outputs": [
    {
     "data": {
      "text/plain": [
       "'am'"
      ]
     },
     "execution_count": 7,
     "metadata": {},
     "output_type": "execute_result"
    }
   ],
   "source": [
    "last_letter"
   ]
  },
  {
   "cell_type": "code",
   "execution_count": 12,
   "id": "fc61e7dd",
   "metadata": {},
   "outputs": [
    {
     "data": {
      "text/plain": [
       "'pam'"
      ]
     },
     "execution_count": 12,
     "metadata": {},
     "output_type": "execute_result"
    }
   ],
   "source": [
    "'p' + last_letter"
   ]
  },
  {
   "cell_type": "code",
   "execution_count": 13,
   "id": "4db7cbeb",
   "metadata": {},
   "outputs": [],
   "source": [
    "x = 'hello world' "
   ]
  },
  {
   "cell_type": "code",
   "execution_count": 14,
   "id": "15270096",
   "metadata": {},
   "outputs": [
    {
     "data": {
      "text/plain": [
       "'hello world'"
      ]
     },
     "execution_count": 14,
     "metadata": {},
     "output_type": "execute_result"
    }
   ],
   "source": [
    "x"
   ]
  },
  {
   "cell_type": "code",
   "execution_count": 29,
   "id": "40ccf46a",
   "metadata": {},
   "outputs": [
    {
     "data": {
      "text/plain": [
       "'hello world it is a beautiful day outside it is a beautiful day outside it is a beautiful day outside it is a beautiful day outside it is a beautiful day outside'"
      ]
     },
     "execution_count": 29,
     "metadata": {},
     "output_type": "execute_result"
    }
   ],
   "source": [
    " x + \" it is a beautiful day outside\""
   ]
  },
  {
   "cell_type": "code",
   "execution_count": 24,
   "id": "3c0b0bf0",
   "metadata": {},
   "outputs": [],
   "source": [
    "letter = 'z'"
   ]
  },
  {
   "cell_type": "code",
   "execution_count": 25,
   "id": "0862fb12",
   "metadata": {},
   "outputs": [
    {
     "data": {
      "text/plain": [
       "'zzzzzzzzzz'"
      ]
     },
     "execution_count": 25,
     "metadata": {},
     "output_type": "execute_result"
    }
   ],
   "source": [
    "letter * 10"
   ]
  },
  {
   "cell_type": "code",
   "execution_count": 26,
   "id": "a657f1af",
   "metadata": {},
   "outputs": [
    {
     "data": {
      "text/plain": [
       "5"
      ]
     },
     "execution_count": 26,
     "metadata": {},
     "output_type": "execute_result"
    }
   ],
   "source": [
    "2 +3 "
   ]
  },
  {
   "cell_type": "code",
   "execution_count": 30,
   "id": "70140e2f",
   "metadata": {},
   "outputs": [
    {
     "data": {
      "text/plain": [
       "'23'"
      ]
     },
     "execution_count": 30,
     "metadata": {},
     "output_type": "execute_result"
    }
   ],
   "source": [
    "'2' +'3'"
   ]
  },
  {
   "cell_type": "code",
   "execution_count": 31,
   "id": "4b307c84",
   "metadata": {},
   "outputs": [],
   "source": [
    "x = \" hello world\""
   ]
  },
  {
   "cell_type": "code",
   "execution_count": 32,
   "id": "1063855e",
   "metadata": {},
   "outputs": [
    {
     "data": {
      "text/plain": [
       "' HELLO WORLD'"
      ]
     },
     "execution_count": 32,
     "metadata": {},
     "output_type": "execute_result"
    }
   ],
   "source": [
    "x.upper()"
   ]
  },
  {
   "cell_type": "code",
   "execution_count": 33,
   "id": "f2ae889c",
   "metadata": {},
   "outputs": [
    {
     "data": {
      "text/plain": [
       "' hello world'"
      ]
     },
     "execution_count": 33,
     "metadata": {},
     "output_type": "execute_result"
    }
   ],
   "source": [
    "x"
   ]
  },
  {
   "cell_type": "code",
   "execution_count": 34,
   "id": "1f819e0d",
   "metadata": {},
   "outputs": [
    {
     "data": {
      "text/plain": [
       "' hello world'"
      ]
     },
     "execution_count": 34,
     "metadata": {},
     "output_type": "execute_result"
    }
   ],
   "source": [
    "x.lower()"
   ]
  },
  {
   "cell_type": "code",
   "execution_count": 35,
   "id": "ddea8bc1",
   "metadata": {},
   "outputs": [
    {
     "data": {
      "text/plain": [
       "['hello', 'world']"
      ]
     },
     "execution_count": 35,
     "metadata": {},
     "output_type": "execute_result"
    }
   ],
   "source": [
    "x.split()"
   ]
  },
  {
   "cell_type": "code",
   "execution_count": 36,
   "id": "89cd9538",
   "metadata": {},
   "outputs": [],
   "source": [
    "x = ' hi this is a string'"
   ]
  },
  {
   "cell_type": "code",
   "execution_count": 37,
   "id": "b900a782",
   "metadata": {},
   "outputs": [
    {
     "data": {
      "text/plain": [
       "['hi', 'this', 'is', 'a', 'string']"
      ]
     },
     "execution_count": 37,
     "metadata": {},
     "output_type": "execute_result"
    }
   ],
   "source": [
    "x.split()"
   ]
  },
  {
   "cell_type": "code",
   "execution_count": 38,
   "id": "d23eed4c",
   "metadata": {},
   "outputs": [
    {
     "data": {
      "text/plain": [
       "[' h', ' th', 's ', 's a str', 'ng']"
      ]
     },
     "execution_count": 38,
     "metadata": {},
     "output_type": "execute_result"
    }
   ],
   "source": [
    "x.split('i')"
   ]
  },
  {
   "cell_type": "code",
   "execution_count": 39,
   "id": "9ea20a5b",
   "metadata": {},
   "outputs": [
    {
     "name": "stdout",
     "output_type": "stream",
     "text": [
      "hello\n"
     ]
    }
   ],
   "source": [
    "print(\"hello\")"
   ]
  },
  {
   "cell_type": "code",
   "execution_count": null,
   "id": "11bd81bc",
   "metadata": {},
   "outputs": [],
   "source": []
  }
 ],
 "metadata": {
  "kernelspec": {
   "display_name": "Python 3",
   "language": "python",
   "name": "python3"
  },
  "language_info": {
   "codemirror_mode": {
    "name": "ipython",
    "version": 3
   },
   "file_extension": ".py",
   "mimetype": "text/x-python",
   "name": "python",
   "nbconvert_exporter": "python",
   "pygments_lexer": "ipython3",
   "version": "3.8.8"
  }
 },
 "nbformat": 4,
 "nbformat_minor": 5
}
