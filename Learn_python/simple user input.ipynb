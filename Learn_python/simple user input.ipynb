{
 "cells": [
  {
   "cell_type": "code",
   "execution_count": 1,
   "id": "eac1d140",
   "metadata": {},
   "outputs": [],
   "source": [
    "#display function \n",
    "mylist = [0,1,2]\n",
    "\n",
    "def display_game(list):\n",
    "    \n",
    "    return list"
   ]
  },
  {
   "cell_type": "code",
   "execution_count": 2,
   "id": "7c2d8f03",
   "metadata": {},
   "outputs": [
    {
     "data": {
      "text/plain": [
       "[0, 1, 2]"
      ]
     },
     "execution_count": 2,
     "metadata": {},
     "output_type": "execute_result"
    }
   ],
   "source": [
    "display_game(mylist)"
   ]
  },
  {
   "cell_type": "code",
   "execution_count": 5,
   "id": "b963e082",
   "metadata": {},
   "outputs": [],
   "source": [
    "#ask the user to choose a position\n",
    "def position_choice():\n",
    "    \n",
    "    choice = \"wrong\"\n",
    "    \n",
    "    while choice not in [\"0\",\"1\",\"2\"]:\n",
    "        \n",
    "        choice = input(\"pick a number from (0,1,2): \")\n",
    "        \n",
    "        if choice not in [\"0\",\"1\",\"2\"]:\n",
    "            \n",
    "            print(\"sorry i don't understand\")\n",
    "            \n",
    "    return int(choice)        \n",
    "#return the input\n"
   ]
  },
  {
   "cell_type": "code",
   "execution_count": 6,
   "id": "79e0b80b",
   "metadata": {},
   "outputs": [
    {
     "name": "stdout",
     "output_type": "stream",
     "text": [
      "pick a number from (0,1,2): 1\n"
     ]
    },
    {
     "data": {
      "text/plain": [
       "1"
      ]
     },
     "execution_count": 6,
     "metadata": {},
     "output_type": "execute_result"
    }
   ],
   "source": [
    "position_choice()"
   ]
  },
  {
   "cell_type": "code",
   "execution_count": 8,
   "id": "9ef465a0",
   "metadata": {},
   "outputs": [],
   "source": [
    "#replace the string from the given position\n",
    "def replacement_choice(list,position):\n",
    "    \n",
    "    user_replacement = input(\"what would you like to change to: \")\n",
    "    \n",
    "    list[position] = user_replacement\n",
    "    \n",
    "    return list\n",
    "\n",
    "#return "
   ]
  },
  {
   "cell_type": "code",
   "execution_count": 9,
   "id": "c6055f95",
   "metadata": {},
   "outputs": [
    {
     "name": "stdout",
     "output_type": "stream",
     "text": [
      "what would you like to change to: hello\n"
     ]
    },
    {
     "data": {
      "text/plain": [
       "[0, 'hello', 2]"
      ]
     },
     "execution_count": 9,
     "metadata": {},
     "output_type": "execute_result"
    }
   ],
   "source": [
    "replacement_choice(mylist,1)"
   ]
  },
  {
   "cell_type": "code",
   "execution_count": 12,
   "id": "0a8c67e0",
   "metadata": {},
   "outputs": [],
   "source": [
    "#ask the  user  whether he wants to play or not\n",
    "def gameon_choice():\n",
    "    \n",
    "    status = \"wrong\"\n",
    "    \n",
    "    while status not in [\"Y\",\"N\"]:\n",
    "        \n",
    "        status = input(\"wanna play again?: \")\n",
    "        \n",
    "        if status not in [\"Y\",\"N\"]:\n",
    "            \n",
    "            print(\"i didn't understand\")\n",
    "       \n",
    "    if status == \"Y\":\n",
    "        \n",
    "        return True\n",
    "    \n",
    "    else:\n",
    "        \n",
    "        return False\n",
    "\n",
    "#end the game accordingly"
   ]
  },
  {
   "cell_type": "code",
   "execution_count": 13,
   "id": "484e1407",
   "metadata": {},
   "outputs": [
    {
     "name": "stdout",
     "output_type": "stream",
     "text": [
      "wanna play again?: yes\n",
      "i didn't understand\n",
      "wanna play again?: Y\n"
     ]
    },
    {
     "data": {
      "text/plain": [
       "True"
      ]
     },
     "execution_count": 13,
     "metadata": {},
     "output_type": "execute_result"
    }
   ],
   "source": [
    "gameon_choice()"
   ]
  },
  {
   "cell_type": "code",
   "execution_count": null,
   "id": "e4e0a3af",
   "metadata": {},
   "outputs": [
    {
     "name": "stdout",
     "output_type": "stream",
     "text": [
      "pick a number from (0,1,2): 1\n",
      "what would you like to change to: hello\n"
     ]
    }
   ],
   "source": [
    "#compile all the func together\n",
    "game_on = True\n",
    "mylist = [0,1,2]\n",
    "\n",
    "while game_on:\n",
    "    \n",
    "    display_game(mylist)\n",
    "    \n",
    "    position = position_choice()\n",
    "    \n",
    "    mylist = replacement_choice(mylist,position)\n",
    "    \n",
    "    display_game(mylist)\n",
    "    \n",
    "    game_on = gameon_choice"
   ]
  },
  {
   "cell_type": "code",
   "execution_count": null,
   "id": "725e47a0",
   "metadata": {},
   "outputs": [],
   "source": []
  }
 ],
 "metadata": {
  "kernelspec": {
   "display_name": "Python 3",
   "language": "python",
   "name": "python3"
  },
  "language_info": {
   "codemirror_mode": {
    "name": "ipython",
    "version": 3
   },
   "file_extension": ".py",
   "mimetype": "text/x-python",
   "name": "python",
   "nbconvert_exporter": "python",
   "pygments_lexer": "ipython3",
   "version": "3.8.8"
  }
 },
 "nbformat": 4,
 "nbformat_minor": 5
}
