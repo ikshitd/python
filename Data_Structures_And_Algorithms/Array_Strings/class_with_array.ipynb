{
 "cells": [
  {
   "cell_type": "code",
   "execution_count": 1,
   "id": "a4b6306a",
   "metadata": {},
   "outputs": [],
   "source": [
    "class MyArray():\n",
    "    \n",
    "    def __init__(self):\n",
    "        \n",
    "        self.length = 0\n",
    "        self.data = {}\n",
    "    \n",
    "    def append(self,char):\n",
    "        \n",
    "        self.data[self.length] = char\n",
    "        \n",
    "        self.length += 1\n",
    "        \n",
    "        return self.data\n",
    "    \n",
    "    def pop(self):\n",
    "        \n",
    "        self.data.pop(self.length -1)\n",
    "        \n",
    "        return self.data\n",
    "    \n",
    "    def get(self , index):\n",
    "        \n",
    "        return self.data[index]\n",
    "    \n",
    "    def empty(self,index):\n",
    "        \n",
    "        self.data[index] = \"\"\n",
    "        \n",
    "        return self.data"
   ]
  },
  {
   "cell_type": "code",
   "execution_count": 2,
   "id": "02e3057d",
   "metadata": {},
   "outputs": [],
   "source": [
    "hello = MyArray()"
   ]
  },
  {
   "cell_type": "code",
   "execution_count": 3,
   "id": "acf6f730",
   "metadata": {},
   "outputs": [
    {
     "data": {
      "text/plain": [
       "0"
      ]
     },
     "execution_count": 3,
     "metadata": {},
     "output_type": "execute_result"
    }
   ],
   "source": [
    "hello.length "
   ]
  },
  {
   "cell_type": "code",
   "execution_count": 4,
   "id": "23a6483d",
   "metadata": {},
   "outputs": [
    {
     "data": {
      "text/plain": [
       "{}"
      ]
     },
     "execution_count": 4,
     "metadata": {},
     "output_type": "execute_result"
    }
   ],
   "source": [
    "hello.data"
   ]
  },
  {
   "cell_type": "code",
   "execution_count": 5,
   "id": "a98ea156",
   "metadata": {},
   "outputs": [
    {
     "data": {
      "text/plain": [
       "{0: 'hi'}"
      ]
     },
     "execution_count": 5,
     "metadata": {},
     "output_type": "execute_result"
    }
   ],
   "source": [
    "hello.append(\"hi\")"
   ]
  },
  {
   "cell_type": "code",
   "execution_count": 6,
   "id": "a447feb2",
   "metadata": {},
   "outputs": [
    {
     "data": {
      "text/plain": [
       "1"
      ]
     },
     "execution_count": 6,
     "metadata": {},
     "output_type": "execute_result"
    }
   ],
   "source": [
    "hello.length "
   ]
  },
  {
   "cell_type": "code",
   "execution_count": 7,
   "id": "de1c1dd5",
   "metadata": {},
   "outputs": [
    {
     "data": {
      "text/plain": [
       "'hi'"
      ]
     },
     "execution_count": 7,
     "metadata": {},
     "output_type": "execute_result"
    }
   ],
   "source": [
    "hello.get(0)"
   ]
  },
  {
   "cell_type": "code",
   "execution_count": 8,
   "id": "0f04e842",
   "metadata": {},
   "outputs": [
    {
     "data": {
      "text/plain": [
       "{}"
      ]
     },
     "execution_count": 8,
     "metadata": {},
     "output_type": "execute_result"
    }
   ],
   "source": [
    "hello.pop()"
   ]
  },
  {
   "cell_type": "code",
   "execution_count": 9,
   "id": "7425f951",
   "metadata": {},
   "outputs": [
    {
     "data": {
      "text/plain": [
       "{1: 'never'}"
      ]
     },
     "execution_count": 9,
     "metadata": {},
     "output_type": "execute_result"
    }
   ],
   "source": [
    "hello.append(\"never\")"
   ]
  }
 ],
 "metadata": {
  "kernelspec": {
   "display_name": "Python 3",
   "language": "python",
   "name": "python3"
  },
  "language_info": {
   "codemirror_mode": {
    "name": "ipython",
    "version": 3
   },
   "file_extension": ".py",
   "mimetype": "text/x-python",
   "name": "python",
   "nbconvert_exporter": "python",
   "pygments_lexer": "ipython3",
   "version": "3.8.8"
  }
 },
 "nbformat": 4,
 "nbformat_minor": 5
}
